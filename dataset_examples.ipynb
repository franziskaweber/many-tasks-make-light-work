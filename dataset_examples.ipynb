{
 "cells": [
  {
   "cell_type": "markdown",
   "id": "2b7b6df3-b441-4e3e-8f74-d83f8c612900",
   "metadata": {
    "pycharm": {
     "name": "#%% md\n"
    },
    "tags": []
   },
   "source": [
    "# Helpers"
   ]
  },
  {
   "cell_type": "code",
   "execution_count": null,
   "id": "7335f407-fccc-47fb-9216-d480d7dc13e4",
   "metadata": {
    "pycharm": {
     "name": "#%%\n"
    }
   },
   "outputs": [],
   "source": [
    "%load_ext autoreload\n",
    "%autoreload 2\n",
    "\n",
    "import os\n",
    "from pathlib import Path\n",
    "import sys\n",
    "\n",
    "\n",
    "import numpy as np\n",
    "import matplotlib.pyplot as plt\n",
    "import scipy\n",
    "import SimpleITK as sitk\n",
    "from tqdm import tqdm\n",
    "\n",
    "module_path = os.path.abspath(os.path.join('../..'))\n",
    "\n",
    "if module_path not in sys.path:\n",
    "    sys.path.append(module_path)\n",
    "\n",
    "    \n",
    "from multitask_method.plotting_utils import display_cross_section, display_normalised_cross_section"
   ]
  },
  {
   "cell_type": "markdown",
   "id": "ae4be7e8-7041-4517-93e8-c27c65518a06",
   "metadata": {
    "pycharm": {
     "name": "#%% md\n"
    },
    "tags": []
   },
   "source": [
    "# VinDr-CXR"
   ]
  },
  {
   "cell_type": "markdown",
   "id": "fa31950e-bc80-49e8-aa9d-a95bc71fe3a0",
   "metadata": {
    "pycharm": {
     "name": "#%% md\n"
    },
    "tags": []
   },
   "source": [
    "## Raw"
   ]
  },
  {
   "cell_type": "code",
   "execution_count": null,
   "id": "b7a672ae-87d4-4c01-ace9-c9d201aac44c",
   "metadata": {
    "pycharm": {
     "name": "#%%\n"
    }
   },
   "outputs": [],
   "source": [
    "from multitask_method.preprocessing.vindr_cxr_preproc import raw_root, gen_vindr_structure, TRAIN, TEST\n",
    "\n",
    "raw_annotations_dict, raw_image_labels, raw_test_dir, raw_train_dir =  gen_vindr_structure(raw_root)"
   ]
  },
  {
   "cell_type": "code",
   "execution_count": null,
   "id": "c73d3022-67a3-42a2-8c50-8d451f1c6501",
   "metadata": {
    "pycharm": {
     "name": "#%%\n"
    }
   },
   "outputs": [],
   "source": [
    "import pandas as pd\n",
    "import pydicom\n",
    "\n",
    "from multitask_method.preprocessing.vindr_cxr_preproc import vindr_preproc_func, generate_vindr_mask\n",
    "\n",
    "test_anno_df = pd.read_csv(raw_annotations_dict[TEST])\n",
    "test_label_df = pd.read_csv(raw_image_labels[1], index_col='image_id')\n",
    "\n",
    "raw_test_samples = sorted(list(raw_test_dir.iterdir()))\n",
    "\n",
    "def plot_raw_cxr(curr_img, curr_ax):\n",
    "    curr_ax_im = curr_ax.imshow(curr_img, vmin=curr_img.min(), vmax=curr_img.max(), cmap='gray')\n",
    "    plt.colorbar(curr_ax_im)\n",
    "\n",
    "for i, dicom_path in enumerate(raw_test_samples):\n",
    "    \n",
    "    sample_id = dicom_path.stem\n",
    "    raw_dicom = pydicom.dcmread(dicom_path)\n",
    "    \n",
    "    raw_arr = raw_dicom.pixel_array.astype(float)\n",
    "    preproc_arr = vindr_preproc_func(raw_arr, raw_dicom)\n",
    "    \n",
    "    raw_annotation = generate_vindr_mask(test_anno_df[test_anno_df['image_id'] == sample_id], raw_arr)\n",
    "    sample_class_row = test_label_df.loc[sample_id]\n",
    "    sample_class = ', '.join(sample_class_row[sample_class_row == 1].index.tolist())\n",
    "    \n",
    "    fig, ax = plt.subplots(ncols=3, figsize=(20, 6))\n",
    "    plot_raw_cxr(raw_arr, ax[0])\n",
    "    plot_raw_cxr(preproc_arr, ax[1])\n",
    "    ax[2].imshow(raw_annotation)\n",
    "    fig.suptitle(sample_class)\n",
    "        \n",
    "    if i == 5:\n",
    "        break"
   ]
  },
  {
   "cell_type": "code",
   "execution_count": null,
   "id": "323342c8-790a-4e14-bd45-4b8a73df7f9c",
   "metadata": {
    "pycharm": {
     "name": "#%%\n"
    }
   },
   "outputs": [],
   "source": [
    "import pandas as pd\n",
    "import pydicom\n",
    "\n",
    "from multitask_method.preprocessing.vindr_cxr_preproc import vindr_preproc_func, generate_vindr_mask\n",
    "\n",
    "train_anno_df = pd.read_csv(raw_annotations_dict[TRAIN])\n",
    "train_label_df = pd.read_csv(raw_image_labels[0])\n",
    "\n",
    "train_labels_sum = train_label_df.groupby('image_id')['No finding'].sum()\n",
    "train_sample_ids = sorted(train_labels_sum[train_labels_sum == 3].index.tolist())\n",
    "raw_train_samples = [raw_train_dir / f'{f}.dicom' for f in train_sample_ids]\n",
    "\n",
    "def plot_raw_cxr(curr_img, curr_ax):\n",
    "    curr_ax_im = curr_ax.imshow(curr_img, vmin=curr_img.min(), vmax=curr_img.max(), cmap='gray')\n",
    "    plt.colorbar(curr_ax_im)\n",
    "\n",
    "for i, dicom_path in enumerate(raw_train_samples):\n",
    "    \n",
    "    sample_id = dicom_path.stem\n",
    "    raw_dicom = pydicom.dcmread(dicom_path)\n",
    "    \n",
    "    raw_arr = raw_dicom.pixel_array.astype(float)\n",
    "    preproc_arr = vindr_preproc_func(raw_arr, raw_dicom)\n",
    "    \n",
    "    raw_annotation = generate_vindr_mask(train_anno_df[train_anno_df['image_id'] == sample_id], raw_arr)\n",
    "    \n",
    "    fig, ax = plt.subplots(ncols=3, figsize=(20, 6))\n",
    "    plot_raw_cxr(raw_arr, ax[0])\n",
    "    plot_raw_cxr(preproc_arr, ax[1])\n",
    "    ax[2].imshow(raw_annotation)\n",
    "    fig.suptitle(sample_id)\n",
    "        \n",
    "    if i == 5:\n",
    "        break"
   ]
  },
  {
   "cell_type": "markdown",
   "id": "1b3a6a9a-c670-43d4-a31c-768a898c099a",
   "metadata": {
    "pycharm": {
     "name": "#%% md\n"
    },
    "tags": []
   },
   "source": [
    "## Preprocessed"
   ]
  },
  {
   "cell_type": "code",
   "execution_count": null,
   "id": "20b338b7-6eb0-440b-96cd-adf9dd5ca9e0",
   "metadata": {
    "pycharm": {
     "name": "#%%\n"
    }
   },
   "outputs": [],
   "source": [
    "from multitask_method.data.vindr_cxr import VinDrCXRDatasetCoordinator\n",
    "from multitask_method.preprocessing.vindr_cxr_preproc import base_output_dir\n",
    "\n",
    "test_samples = [5]\n",
    "\n",
    "full_res_test_container = VinDrCXRDatasetCoordinator(base_output_dir, True, False, False).make_container([5])\n",
    "low_res_test_container = VinDrCXRDatasetCoordinator(base_output_dir, False, False, False).make_container([5])\n",
    "\n",
    "\n",
    "full_res_train_container = VinDrCXRDatasetCoordinator(base_output_dir, True, True, True).make_container([5])\n",
    "low_res_train_container = VinDrCXRDatasetCoordinator(base_output_dir, False, True, True).make_container([5])"
   ]
  },
  {
   "cell_type": "code",
   "execution_count": null,
   "id": "95ea2f9c-d705-4714-b976-747f3d54db4d",
   "metadata": {
    "pycharm": {
     "name": "#%%\n"
    }
   },
   "outputs": [],
   "source": [
    "for i in range(len(full_res_test_container)):\n",
    "    full_res_test_pp_img, full_res_test_pp_m, sample_id = full_res_test_container[i]\n",
    "    \n",
    "    fig, ax = plt.subplots(ncols=2, figsize=(12, 6))\n",
    "    ax_im = ax[0].imshow(full_res_test_pp_img[0], vmin=full_res_test_pp_img.min(), vmax=full_res_test_pp_img.max(), cmap='gray')\n",
    "    plt.colorbar(ax_im)\n",
    "    ax[1].imshow(full_res_test_pp_m)\n",
    "    fig.suptitle(sample_id)"
   ]
  },
  {
   "cell_type": "code",
   "execution_count": null,
   "id": "ff1f915a-c144-484a-a2de-82b328a96ba7",
   "metadata": {
    "pycharm": {
     "name": "#%%\n"
    }
   },
   "outputs": [],
   "source": [
    "for i in range(len(low_res_test_container)):\n",
    "    low_res_test_pp_img, low_res_test_pp_m, sample_id = low_res_test_container[i]\n",
    "    \n",
    "    fig, ax = plt.subplots(ncols=2, figsize=(12, 6))\n",
    "    ax_im = ax[0].imshow(low_res_test_pp_img[0], vmin=low_res_test_pp_img.min(), vmax=low_res_test_pp_img.max(), cmap='gray')\n",
    "    plt.colorbar(ax_im)\n",
    "    ax[1].imshow(low_res_test_pp_m)\n",
    "    fig.suptitle(sample_id)"
   ]
  },
  {
   "cell_type": "code",
   "execution_count": null,
   "id": "dc5a4e86-3e9c-4ec8-a138-fb06d4684c47",
   "metadata": {
    "pycharm": {
     "name": "#%%\n"
    }
   },
   "outputs": [],
   "source": [
    "for i in range(len(low_res_train_container)):\n",
    "    low_res_train_pp_img, _, sample_id = low_res_train_container[i]\n",
    "    \n",
    "    ax_im = plt.imshow(low_res_train_pp_img[0], vmin=low_res_train_pp_img.min(), vmax=low_res_train_pp_img.max(), cmap='gray')\n",
    "    plt.colorbar(ax_im)\n",
    "    plt.title(sample_id)\n",
    "    plt.show()"
   ]
  },
  {
   "cell_type": "code",
   "execution_count": null,
   "id": "1c79520f-1f6c-4ec7-a41a-01dcd81e7357",
   "metadata": {
    "pycharm": {
     "name": "#%%\n"
    }
   },
   "outputs": [],
   "source": [
    "for i in range(len(full_res_train_container)):\n",
    "    full_res_train_pp_img, _, sample_id = full_res_train_container[i]\n",
    "    \n",
    "    ax_im = plt.imshow(full_res_train_pp_img[0], vmin=full_res_train_pp_img.min(), vmax=full_res_train_pp_img.max(), cmap='gray')\n",
    "    plt.colorbar(ax_im)\n",
    "    plt.title(sample_id)\n",
    "    plt.show()"
   ]
  }
 ],
 "metadata": {
  "kernelspec": {
   "display_name": "Python (multitask_method_env)",
   "language": "python",
   "name": "multitask_method_env"
  },
  "language_info": {
   "codemirror_mode": {
    "name": "ipython",
    "version": 3
   },
   "file_extension": ".py",
   "mimetype": "text/x-python",
   "name": "python",
   "nbconvert_exporter": "python",
   "pygments_lexer": "ipython3",
   "version": "3.10.17"
  }
 },
 "nbformat": 4,
 "nbformat_minor": 5
}
