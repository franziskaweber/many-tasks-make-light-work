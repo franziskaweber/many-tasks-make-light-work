{
 "cells": [
  {
   "cell_type": "markdown",
   "id": "2b7b6df3-b441-4e3e-8f74-d83f8c612900",
   "metadata": {
    "tags": [],
    "pycharm": {
     "name": "#%% md\n"
    }
   },
   "source": [
    "# Helpers"
   ]
  },
  {
   "cell_type": "code",
   "execution_count": null,
   "id": "7335f407-fccc-47fb-9216-d480d7dc13e4",
   "metadata": {
    "pycharm": {
     "name": "#%%\n"
    }
   },
   "outputs": [],
   "source": [
    "import os\n",
    "from pathlib import Path\n",
    "import sys\n",
    "\n",
    "\n",
    "import numpy as np\n",
    "import matplotlib.pyplot as plt\n",
    "import scipy\n",
    "import SimpleITK as sitk\n",
    "from tqdm import tqdm\n",
    "\n",
    "module_path = os.path.abspath(os.path.join('../..'))\n",
    "\n",
    "if module_path not in sys.path:\n",
    "    sys.path.append(module_path)\n",
    "\n",
    "    \n",
    "from multitask_method.plotting_utils import display_cross_section, display_normalised_cross_section"
   ]
  },
  {
   "cell_type": "markdown",
   "id": "73cb319d-75c3-46cb-a0cf-f67aa963932b",
   "metadata": {
    "jp-MarkdownHeadingCollapsed": true,
    "tags": [],
    "pycharm": {
     "name": "#%% md\n"
    }
   },
   "source": [
    "# MOOD"
   ]
  },
  {
   "cell_type": "code",
   "execution_count": null,
   "id": "9e10bbfc-4476-473b-91b0-677a67487468",
   "metadata": {
    "pycharm": {
     "name": "#%%\n"
    }
   },
   "outputs": [],
   "source": [
    "from multitask_method.utils import make_exp_config\n",
    "\n",
    "exp_config = make_exp_config('experiments/exp_BRAIN_debug.py')\n",
    "\n",
    "brain_coordinator = exp_config.curr_dset_coord\n",
    "brain_dset_container = brain_coordinator.make_container([0, 1])\n",
    "\n",
    "img1, img1_mask, _ = brain_dset_container[0]\n",
    "img2, img2_mask, _ = brain_dset_container[1]\n",
    "                                   \n",
    "display_cross_section(img1[0])\n",
    "display_cross_section(img1_mask)\n",
    "display_cross_section(img2[0])\n",
    "display_cross_section(img2_mask)"
   ]
  },
  {
   "cell_type": "markdown",
   "id": "5f0f0169-eb96-449a-b9bd-a536eb3ad7c1",
   "metadata": {
    "jp-MarkdownHeadingCollapsed": true,
    "tags": [],
    "pycharm": {
     "name": "#%% md\n"
    }
   },
   "source": [
    "# HCP"
   ]
  },
  {
   "cell_type": "markdown",
   "id": "e3aa49a6-9486-4a19-871c-62c0acaf9d75",
   "metadata": {
    "jp-MarkdownHeadingCollapsed": true,
    "tags": [],
    "pycharm": {
     "name": "#%% md\n"
    }
   },
   "source": [
    "## Raw"
   ]
  },
  {
   "cell_type": "code",
   "execution_count": null,
   "id": "3f70f86d-0414-4343-aecc-d7b03ab21255",
   "metadata": {
    "pycharm": {
     "name": "#%%\n"
    }
   },
   "outputs": [],
   "source": [
    "from multitask_method.preprocessing.brain_preproc import hcp_samples"
   ]
  },
  {
   "cell_type": "code",
   "execution_count": null,
   "id": "8c51fd2f-400f-48bd-b232-5b978e557ffc",
   "metadata": {
    "pycharm": {
     "name": "#%%\n"
    }
   },
   "outputs": [],
   "source": [
    "from scipy.ndimage import find_objects\n",
    "hcp_all_sizes = []\n",
    "hcp_all_spacings = []\n",
    "\n",
    "hcp_outer_box = [(260, 0), (311, 0), (260, 0)]\n",
    "hcp_all_boxes = []\n",
    "\n",
    "for hcp_sample_id, (t1_file, t2_file, wm_seg_file) in tqdm(hcp_samples):\n",
    "    \n",
    "    # t1_img = sitk.ReadImage(t1_file)\n",
    "    t2_img = sitk.ReadImage(t2_file)\n",
    "    \n",
    "    # t1_img_sz = t1_img.GetSize()\n",
    "    t2_img_sz = t2_img.GetSize()\n",
    "    # assert t1_img_sz == t2_img_sz, f'Size missmatch {t1_img_sz} - {t2_img_sz}'\n",
    "    \n",
    "    # if t1_img_sz not in all_sizes:\n",
    "    #     hcp_all_sizes.append(t1_img_sz)\n",
    "    #     print(t1_img_sz)\n",
    "        \n",
    "    \n",
    "    # t1_img_sp = t1_img.GetSpacing()\n",
    "    t2_img_sp = t2_img.GetSpacing()\n",
    "    # assert t1_img_sp == t2_img_sp, f'Spacing missmatch {t1_img_sp} - {t2_img_sp}'\n",
    "    \n",
    "    # if t1_img_sp not in all_spacings:\n",
    "    #     hcp_all_spacings.append(t1_img_sp)\n",
    "        \n",
    "    # t1_arr = sitk.GetArrayFromImage(t1_img)\n",
    "    t2_arr = sitk.GetArrayFromImage(t2_img[:, ::-1, :])\n",
    "    \n",
    "    # t1_box = [(s.start, s.stop) for s in find_objects((t1_arr > 0).astype(int))[0]]\n",
    "    t2_box = [(s.start, s.stop) for s in find_objects((t2_arr > 0).astype(int))[0]]\n",
    "    hcp_all_boxes.append(t2_box)\n",
    "    \n",
    "    # assert t1_box == t2_box\n",
    "    hcp_outer_box = [(min(c_min, lb), max(c_max, ub)) for (c_min, c_max), (lb, ub) in zip(hcp_outer_box, t2_box)]\n",
    "    \n",
    "print(hcp_all_sizes)\n",
    "print(hcp_all_spacings)\n",
    "hcp_outer_box"
   ]
  },
  {
   "cell_type": "code",
   "execution_count": null,
   "id": "8e73905a-707d-465b-ae3d-370d0b52369d",
   "metadata": {
    "pycharm": {
     "name": "#%%\n"
    }
   },
   "outputs": [],
   "source": [
    "from functools import reduce\n",
    "\n",
    "reduce(lambda min_vals, new_box: [max(c_min, (b_ub - b_lb) * 0.7) for c_min, (b_lb, b_ub) in zip(min_vals, new_box)], hcp_all_boxes, [0, 0, 0] )"
   ]
  },
  {
   "cell_type": "code",
   "execution_count": null,
   "id": "4fd7e8eb-f21e-451c-9f18-24218857a434",
   "metadata": {
    "pycharm": {
     "name": "#%%\n"
    }
   },
   "outputs": [],
   "source": [
    "hcp_example_sample_id, (hcp_example_sample_t1_file, hcp_example_sample_t2_file, hcp_example_sample_wm_seg_file)  = sorted(hcp_samples)[0]\n",
    "hcp_t1 = sitk.GetArrayFromImage(sitk.ReadImage(hcp_example_sample_t1_file))\n",
    "hcp_t2 = sitk.GetArrayFromImage(sitk.ReadImage(hcp_example_sample_t2_file))\n",
    "hcp_seg = sitk.GetArrayFromImage(sitk.ReadImage(hcp_example_sample_wm_seg_file))\n",
    "\n",
    "display_cross_section(hcp_t1 / hcp_t1.max())\n",
    "display_cross_section(hcp_t2 / hcp_t2.max())\n",
    "display_cross_section(hcp_seg / hcp_seg.max())"
   ]
  },
  {
   "cell_type": "code",
   "execution_count": null,
   "id": "bc881cc1-7d05-4a57-83a5-180470a4cbfe",
   "metadata": {
    "pycharm": {
     "name": "#%%\n"
    }
   },
   "outputs": [],
   "source": [
    "from multitask_method.preprocessing.brain_preproc import z_norm\n",
    "\n",
    "tmp_mask = hcp_t2 > 0\n",
    "\n",
    "hcp_t2_norm = z_norm(hcp_t2, tmp_mask)\n",
    "\n",
    "pp_mask = scipy.ndimage.binary_fill_holes(hcp_t2_norm != 0)\n",
    "\n",
    "np.sum(pp_mask != (hcp_t2_norm != 0))"
   ]
  },
  {
   "cell_type": "code",
   "execution_count": null,
   "id": "e26f3260-e88f-434d-987f-9a0ff6ff04f1",
   "metadata": {
    "pycharm": {
     "name": "#%%\n"
    }
   },
   "outputs": [],
   "source": [
    "_ = plt.hist(hcp_t1.flatten()[hcp_t1.flatten() > 0], bins=100)"
   ]
  },
  {
   "cell_type": "markdown",
   "id": "8a230f20-fa4d-43a1-a851-9a5f8f49757c",
   "metadata": {
    "jp-MarkdownHeadingCollapsed": true,
    "tags": [],
    "pycharm": {
     "name": "#%% md\n"
    }
   },
   "source": [
    "## Preprocessed"
   ]
  },
  {
   "cell_type": "code",
   "execution_count": null,
   "id": "c7608aa5-fe87-4b1f-b004-21422552910e",
   "metadata": {
    "pycharm": {
     "name": "#%%\n"
    }
   },
   "outputs": [],
   "source": [
    "hcp_preprocessed_root = Path('/vol/biomedic3/mb4617/multitask_method_data/hcp/')\n",
    "hcp_fullres_files = sorted(list((hcp_preprocessed_root / 'fullres').iterdir()))\n",
    "hcp_lowres_files = sorted(list((hcp_preprocessed_root / 'lowres').iterdir()))"
   ]
  },
  {
   "cell_type": "code",
   "execution_count": null,
   "id": "4c37da15-3e97-434e-96df-1fd8f2339079",
   "metadata": {
    "pycharm": {
     "name": "#%%\n"
    }
   },
   "outputs": [],
   "source": [
    "hcp_pp_example_file = hcp_fullres_files[0]\n",
    "hcp_pp_example = np.load(hcp_pp_example_file)\n",
    "\n",
    "print(hcp_pp_example.shape)\n",
    "\n",
    "display_normalised_cross_section(hcp_pp_example[0])\n",
    "display_normalised_cross_section(hcp_pp_example[1])\n",
    "display_cross_section(hcp_pp_example[1] != 0)\n",
    "display_cross_section(hcp_pp_example[2] / hcp_pp_example[2].max())"
   ]
  },
  {
   "cell_type": "code",
   "execution_count": null,
   "id": "1756c5e8-9097-48e2-9301-826c4fb0794a",
   "metadata": {
    "pycharm": {
     "name": "#%%\n"
    }
   },
   "outputs": [],
   "source": [
    "_ = plt.hist(hcp_pp_example[0].flatten()[hcp_pp_example[0].flatten() != 0], bins=100)"
   ]
  },
  {
   "cell_type": "code",
   "execution_count": null,
   "id": "7fc96d61-0404-4a79-a43c-25c915a4ac7f",
   "metadata": {
    "pycharm": {
     "name": "#%%\n"
    }
   },
   "outputs": [],
   "source": [
    "hcp_pp_example_file = hcp_lowres_files[0]\n",
    "hcp_pp_example = np.load(hcp_pp_example_file)\n",
    "print(hcp_pp_example.shape)\n",
    "\n",
    "display_normalised_cross_section(hcp_pp_example[0])\n",
    "display_normalised_cross_section(hcp_pp_example[1])\n",
    "display_cross_section(hcp_pp_example[1] != 0)\n",
    "display_cross_section(hcp_pp_example[2] / hcp_pp_example[2].max())"
   ]
  },
  {
   "cell_type": "code",
   "execution_count": null,
   "id": "bb740e6b-f363-4316-8a74-5b4aa72d95de",
   "metadata": {
    "pycharm": {
     "name": "#%%\n"
    }
   },
   "outputs": [],
   "source": [
    "_ = plt.hist(hcp_pp_example[0].flatten()[hcp_pp_example[0].flatten() != 0], bins=100)"
   ]
  },
  {
   "cell_type": "code",
   "execution_count": null,
   "id": "fd66bdeb-af8a-40d7-95a4-c862f52bb834",
   "metadata": {
    "pycharm": {
     "name": "#%%\n"
    }
   },
   "outputs": [],
   "source": [
    "t = np.array([[0, 1, 3, -1], [3, 5, -2, 2]])\n",
    "np.clip(t, t.min(axis=0, keepdims=True), t.max(axis=0, keepdims=True))"
   ]
  },
  {
   "cell_type": "code",
   "execution_count": null,
   "id": "9916bfd2-6841-474d-bcf0-a19ed4e30c51",
   "metadata": {
    "pycharm": {
     "name": "#%%\n"
    }
   },
   "outputs": [],
   "source": [
    "t.max(axis=tuple(range(1, len(t.shape))), keepdims=True)"
   ]
  },
  {
   "cell_type": "markdown",
   "id": "d4e64a3b-6423-46c7-8714-4023f13ffa0c",
   "metadata": {
    "jp-MarkdownHeadingCollapsed": true,
    "tags": [],
    "pycharm": {
     "name": "#%% md\n"
    }
   },
   "source": [
    "# BRATS 2017"
   ]
  },
  {
   "cell_type": "markdown",
   "id": "e09cadab-3c93-4c56-a730-660cafdc6da9",
   "metadata": {
    "tags": [],
    "pycharm": {
     "name": "#%% md\n"
    }
   },
   "source": [
    "## Raw"
   ]
  },
  {
   "cell_type": "code",
   "execution_count": null,
   "id": "b2f62803-ec0f-4b54-88ec-db1927a3642a",
   "metadata": {
    "pycharm": {
     "name": "#%%\n"
    }
   },
   "outputs": [],
   "source": [
    "from multitask_method.preprocessing.brain_preproc import brats_samples"
   ]
  },
  {
   "cell_type": "code",
   "execution_count": null,
   "id": "2242082f-fab2-4a8f-92ba-ea48f2aba88c",
   "metadata": {
    "pycharm": {
     "name": "#%%\n"
    }
   },
   "outputs": [],
   "source": [
    "from scipy.ndimage import find_objects\n",
    "\n",
    "brats_all_sizes = []\n",
    "brats_all_spacings = []\n",
    "brats_all_boxes = []\n",
    "\n",
    "brats_outer_box = [(np.inf, 0), (np.inf, 0), (np.inf, 0)]\n",
    "\n",
    "for brats_sample_id, (t1_file, t2_file, seg_file) in tqdm(brats_samples):    \n",
    "    \n",
    "    t1_img = sitk.ReadImage(t1_file)\n",
    "    t2_img = sitk.ReadImage(t2_file)\n",
    "    \n",
    "    t1_img_sz = t1_img.GetSize()\n",
    "    t2_img_sz = t2_img.GetSize()\n",
    "    assert t1_img_sz == t2_img_sz, f'Size missmatch {t1_img_sz} - {t2_img_sz}'\n",
    "    \n",
    "    if t2_img_sz not in brats_all_sizes:\n",
    "        brats_all_sizes.append(t2_img_sz)\n",
    "        print(t2_img_sz)\n",
    "        \n",
    "    \n",
    "    t1_img_sp = t1_img.GetSpacing()\n",
    "    t2_img_sp = t2_img.GetSpacing()\n",
    "    assert t1_img_sp == t2_img_sp, f'Spacing missmatch {t1_img_sp} - {t2_img_sp}'\n",
    "    \n",
    "    if t2_img_sp not in brats_all_spacings:\n",
    "        brats_all_spacings.append(t2_img_sp)\n",
    "        \n",
    "    t1_arr = sitk.GetArrayFromImage(t1_img)\n",
    "    t2_arr = sitk.GetArrayFromImage(t2_img)\n",
    "    \n",
    "    t1_box = [(s.start, s.stop) for s in find_objects((t1_arr > 0).astype(int))[0]]\n",
    "    t2_box = [(s.start, s.stop) for s in find_objects((t2_arr > 0).astype(int))[0]]\n",
    "    \n",
    "    brats_sample_outer_box = [(min(t1_min, t2_min), max(t1_max, t2_max)) for (t1_min, t1_max), (t2_min, t2_max) in zip(t1_box, t2_box)]\n",
    "    brats_all_boxes.append(brats_sample_outer_box)\n",
    "    \n",
    "    brats_outer_box = [(min(c_min, lb), max(c_max, ub)) for (c_min, c_max), (lb, ub) in zip(brats_outer_box, brats_sample_outer_box)]\n",
    "    \n",
    "print(brats_all_sizes)\n",
    "print(brats_all_spacings)\n",
    "brats_outer_box"
   ]
  },
  {
   "cell_type": "code",
   "execution_count": null,
   "id": "73a7e49d-b407-4af9-85cc-52f32bef4d0b",
   "metadata": {
    "pycharm": {
     "name": "#%%\n"
    }
   },
   "outputs": [],
   "source": [
    "from functools import reduce\n",
    "\n",
    "brats_max_brain_sz = reduce(lambda min_vals, new_box: [max(c_min, b_ub - b_lb) for c_min, (b_lb, b_ub) in zip(min_vals, new_box)], brats_all_boxes, [0, 0, 0] )\n",
    "\n",
    "brats_max_brain_sz"
   ]
  },
  {
   "cell_type": "code",
   "execution_count": null,
   "id": "9821c32b-31be-43ed-b64e-73445211e261",
   "metadata": {
    "pycharm": {
     "name": "#%%\n"
    }
   },
   "outputs": [],
   "source": [
    "brats_example_id, (brats_example_t1_file, brats_example_t2_file, brats_example_seg_file) = sorted(brats_samples)[0]\n",
    "brats_t1 = sitk.GetArrayFromImage(sitk.ReadImage(brats_example_t1_file)[:, ::-1])\n",
    "brats_t2 = sitk.GetArrayFromImage(sitk.ReadImage(brats_example_t2_file)[:, ::-1])\n",
    "brats_seg = sitk.GetArrayFromImage(sitk.ReadImage(brats_example_seg_file)[:, ::-1])\n",
    "\n",
    "print(brats_t1.min(), brats_t1.max())\n",
    "print(np.unique(brats_seg))\n",
    "\n",
    "display_cross_section(brats_t1 / brats_t1.max())\n",
    "display_cross_section(brats_t2 / brats_t2.max())\n",
    "display_cross_section(brats_seg)"
   ]
  },
  {
   "cell_type": "code",
   "execution_count": null,
   "id": "6dccf846-ce09-4d91-b3a0-7398be0fdb77",
   "metadata": {
    "pycharm": {
     "name": "#%%\n"
    }
   },
   "outputs": [],
   "source": [
    "from multitask_method.preprocessing.brain_preproc import load_and_crop\n",
    "\n",
    "full_res, low_res = load_and_crop(*sorted(brats_samples)[0][1], 'brats17')\n",
    "\n",
    "\n",
    "print(full_res[0][full_res[0] != 0].mean(), full_res[0][full_res[0] != 0].std())\n",
    "print(low_res[0][low_res[0] != 0].mean(), low_res[0][low_res[0] != 0].std())\n",
    "\n",
    "print(np.all(np.isin(low_res[2], full_res[2])))\n",
    "\n",
    "display_normalised_cross_section(full_res[0])\n",
    "display_normalised_cross_section(full_res[1])\n",
    "display_cross_section(low_res[2] / low_res[2].max())"
   ]
  },
  {
   "cell_type": "code",
   "execution_count": null,
   "id": "f3635055-0ad3-4608-aeab-354968fc9cd8",
   "metadata": {
    "pycharm": {
     "name": "#%%\n"
    }
   },
   "outputs": [],
   "source": [
    "_ = plt.hist(brats_t1.flatten()[brats_t1.flatten() > 0], bins=100)"
   ]
  },
  {
   "cell_type": "markdown",
   "id": "76f33562-5445-4543-96f5-cf4e8141539b",
   "metadata": {
    "jp-MarkdownHeadingCollapsed": true,
    "tags": [],
    "pycharm": {
     "name": "#%% md\n"
    }
   },
   "source": [
    "## Preprocessed"
   ]
  },
  {
   "cell_type": "code",
   "execution_count": null,
   "id": "5ceb0d04-806b-4e08-a536-cd2b69680e2a",
   "metadata": {
    "pycharm": {
     "name": "#%%\n"
    }
   },
   "outputs": [],
   "source": [
    "brats_preprocessed_root = Path('/vol/biomedic3/mb4617/multitask_method_data/brats17/')\n",
    "brats_fullres_files = sorted(list((brats_preprocessed_root / 'fullres').iterdir()))\n",
    "brats_lowres_files = sorted(list((brats_preprocessed_root / 'lowres').iterdir()))"
   ]
  },
  {
   "cell_type": "code",
   "execution_count": null,
   "id": "ee40c386-62d8-4445-acae-1822602ca7fb",
   "metadata": {
    "pycharm": {
     "name": "#%%\n"
    }
   },
   "outputs": [],
   "source": [
    "brats_pp_example_file = brats_fullres_files[0]\n",
    "brats_pp_example = np.load(brats_pp_example_file)\n",
    "\n",
    "print(brats_pp_example.shape)\n",
    "print('Labels: ', np.unique(brats_pp_example[2]))\n",
    "print(brats_pp_example[0].max())\n",
    "\n",
    "display_normalised_cross_section(brats_pp_example[0] / brats_pp_example[0].max())\n",
    "display_normalised_cross_section(brats_pp_example[1] / brats_pp_example[1].max())\n",
    "display_cross_section(brats_pp_example[2] / brats_pp_example[2].max())"
   ]
  },
  {
   "cell_type": "code",
   "execution_count": null,
   "id": "27e186d2-ee3b-4a0c-800d-7db43208169a",
   "metadata": {
    "pycharm": {
     "name": "#%%\n"
    }
   },
   "outputs": [],
   "source": [
    "brats_pp_example_file = brats_lowres_files[0]\n",
    "brats_pp_example = np.load(brats_pp_example_file)\n",
    "\n",
    "print(brats_pp_example.shape)\n",
    "print('Labels: ', np.unique(brats_pp_example[2]))\n",
    "print(brats_pp_example.min(), brats_pp_example.max())\n",
    "\n",
    "display_normalised_cross_section(brats_pp_example[0] / brats_pp_example[0].max())\n",
    "display_normalised_cross_section(brats_pp_example[1] / brats_pp_example[1].max())\n",
    "display_cross_section(brats_pp_example[2] / brats_pp_example[2].max())"
   ]
  },
  {
   "cell_type": "code",
   "execution_count": null,
   "id": "1cf62863-03bd-4d35-9894-0638f94da4c7",
   "metadata": {
    "pycharm": {
     "name": "#%%\n"
    }
   },
   "outputs": [],
   "source": [
    "_ = plt.hist(brats_pp_example[0].flatten()[brats_pp_example[0].flatten() != 0], bins=100)"
   ]
  },
  {
   "cell_type": "markdown",
   "id": "757cadd2-2fc6-4412-9db8-b1585e2e7c28",
   "metadata": {
    "tags": [],
    "pycharm": {
     "name": "#%% md\n"
    }
   },
   "source": [
    "# ISLES 2015"
   ]
  },
  {
   "cell_type": "markdown",
   "id": "05ecedd1-1253-4584-8fc9-42835744b0a5",
   "metadata": {
    "tags": [],
    "pycharm": {
     "name": "#%% md\n"
    }
   },
   "source": [
    "## Raw"
   ]
  },
  {
   "cell_type": "code",
   "execution_count": null,
   "id": "7cb1c65b-eb7d-4f5d-a96b-41e0dfa0395f",
   "metadata": {
    "pycharm": {
     "name": "#%%\n"
    }
   },
   "outputs": [],
   "source": [
    "from multitask_method.preprocessing.brain_preproc import isles_samples"
   ]
  },
  {
   "cell_type": "code",
   "execution_count": null,
   "id": "1b6f22d4-df39-43fa-9496-642beb0f9bcf",
   "metadata": {
    "pycharm": {
     "name": "#%%\n"
    }
   },
   "outputs": [],
   "source": [
    "from scipy.ndimage import find_objects\n",
    "\n",
    "isles_all_sizes = []\n",
    "isles_all_spacings = []\n",
    "isles_all_boxes = []\n",
    "\n",
    "isles_outer_box = [(np.inf, 0), (np.inf, 0), (np.inf, 0)]\n",
    "isles_size_counts = {}\n",
    "\n",
    "for isles_sample_id, (t1_file, t2_file, seg_file) in tqdm(isles_samples):    \n",
    "    \n",
    "    t1_img = sitk.ReadImage(t1_file)\n",
    "    t2_img = sitk.ReadImage(t2_file)\n",
    "    \n",
    "    t1_img_sz = t1_img.GetSize()\n",
    "    t2_img_sz = t2_img.GetSize()\n",
    "    assert t1_img_sz == t2_img_sz, f'Size missmatch {t1_img_sz} - {t2_img_sz}'\n",
    "    \n",
    "    if t2_img_sz not in isles_all_sizes:\n",
    "        isles_all_sizes.append(t2_img_sz)\n",
    "        isles_size_counts[t2_img_sz] = 1\n",
    "        print(t2_img_sz)\n",
    "    else:\n",
    "        isles_size_counts[t2_img_sz] += 1\n",
    "        \n",
    "    \n",
    "    t1_img_sp = t1_img.GetSpacing()\n",
    "    t2_img_sp = t2_img.GetSpacing()\n",
    "    assert t1_img_sp == t2_img_sp, f'Spacing missmatch {t1_img_sp} - {t2_img_sp}'\n",
    "    \n",
    "    if t2_img_sp not in isles_all_spacings:\n",
    "        isles_all_spacings.append(t2_img_sp)\n",
    "        \n",
    "    t1_arr = sitk.GetArrayFromImage(t1_img)\n",
    "    t2_arr = sitk.GetArrayFromImage(t2_img)\n",
    "    \n",
    "    t1_box = [(s.start, s.stop) for s in find_objects((t1_arr > 0).astype(int))[0]]\n",
    "    t2_box = [(s.start, s.stop) for s in find_objects((t2_arr > 0).astype(int))[0]]\n",
    "    \n",
    "    isles_sample_outer_box = [(min(t1_min, t2_min), max(t1_max, t2_max)) for (t1_min, t1_max), (t2_min, t2_max) in zip(t1_box, t2_box)]\n",
    "    isles_all_boxes.append(isles_sample_outer_box)\n",
    "    \n",
    "    isles_outer_box = [(min(c_min, lb), max(c_max, ub)) for (c_min, c_max), (lb, ub) in zip(isles_outer_box, isles_sample_outer_box)]\n",
    "    \n",
    "print(isles_all_sizes)\n",
    "print(isles_size_counts)\n",
    "print(isles_all_spacings)\n",
    "isles_outer_box"
   ]
  },
  {
   "cell_type": "code",
   "execution_count": null,
   "id": "3962db59-5abe-4d2c-a69d-bf59f86a8134",
   "metadata": {
    "pycharm": {
     "name": "#%%\n"
    }
   },
   "outputs": [],
   "source": [
    "print(1069 + 2671)\n",
    "print(sum([count * (sz[2] - 20) for sz, count in isles_size_counts.items()]))"
   ]
  },
  {
   "cell_type": "code",
   "execution_count": null,
   "id": "168b2f50-2d60-4276-90ce-9649d76caca6",
   "metadata": {
    "pycharm": {
     "name": "#%%\n"
    }
   },
   "outputs": [],
   "source": [
    "from functools import reduce\n",
    "\n",
    "isles_max_brain_sz = reduce(lambda min_vals, new_box: [max(c_min, b_ub - b_lb) for c_min, (b_lb, b_ub) in zip(min_vals, new_box)], isles_all_boxes, [0, 0, 0] )\n",
    "\n",
    "isles_max_brain_sz"
   ]
  },
  {
   "cell_type": "code",
   "execution_count": null,
   "id": "4e73c51d-7cd2-4a6c-9a29-049d30bb973a",
   "metadata": {
    "pycharm": {
     "name": "#%%\n"
    }
   },
   "outputs": [],
   "source": [
    "isles_example_id, (isles_example_t1_file, isles_example_t2_file, isles_example_seg_file) = sorted(isles_samples)[0]\n",
    "isles_t1 = sitk.GetArrayFromImage(sitk.ReadImage(isles_example_t1_file))\n",
    "isles_t2 = sitk.GetArrayFromImage(sitk.ReadImage(isles_example_t2_file))\n",
    "isles_seg = sitk.GetArrayFromImage(sitk.ReadImage(isles_example_seg_file))\n",
    "\n",
    "display_cross_section(isles_t1 / isles_t1.max())\n",
    "display_cross_section(isles_t2 / isles_t2.max())\n",
    "display_cross_section(isles_seg)"
   ]
  },
  {
   "cell_type": "code",
   "execution_count": null,
   "id": "e3635ed3-2b59-4479-b358-94d0dca78f26",
   "metadata": {
    "pycharm": {
     "name": "#%%\n"
    }
   },
   "outputs": [],
   "source": [
    "_ = plt.hist(isles_t1.flatten()[isles_t1.flatten() > 0], bins=100)"
   ]
  },
  {
   "cell_type": "markdown",
   "id": "ec0ec455-0d3f-4d99-ba08-cc86fda96db7",
   "metadata": {
    "jp-MarkdownHeadingCollapsed": true,
    "tags": [],
    "pycharm": {
     "name": "#%% md\n"
    }
   },
   "source": [
    "## Preprocessed"
   ]
  },
  {
   "cell_type": "code",
   "execution_count": null,
   "id": "665e65a0-dd61-4885-9bc4-4ad7e556ebd5",
   "metadata": {
    "pycharm": {
     "name": "#%%\n"
    }
   },
   "outputs": [],
   "source": [
    "isles_preprocessed_root = Path('/vol/biomedic3/mb4617/multitask_method_data/isles2015/')\n",
    "isles_fullres_files = sorted(list((isles_preprocessed_root / 'fullres').iterdir()))\n",
    "isles_lowres_files = sorted(list((isles_preprocessed_root / 'lowres').iterdir()))"
   ]
  },
  {
   "cell_type": "code",
   "execution_count": null,
   "id": "74960a99-2486-4ff3-b40f-06c360f21778",
   "metadata": {
    "pycharm": {
     "name": "#%%\n"
    }
   },
   "outputs": [],
   "source": [
    "isles_pp_example_file = sorted(isles_fullres_files)[0]\n",
    "isles_pp_example = np.load(isles_pp_example_file)\n",
    "\n",
    "print(isles_pp_example.shape)\n",
    "print('Labels: ', np.unique(isles_pp_example[2]))\n",
    "\n",
    "display_normalised_cross_section(isles_pp_example[0] / isles_pp_example[0].max())\n",
    "display_normalised_cross_section(isles_pp_example[1] / isles_pp_example[1].max())\n",
    "display_cross_section(isles_pp_example[2] / isles_pp_example[2].max())"
   ]
  },
  {
   "cell_type": "code",
   "execution_count": null,
   "id": "1a1e74c1-01e6-4091-966f-3cdad35c0e7f",
   "metadata": {
    "pycharm": {
     "name": "#%%\n"
    }
   },
   "outputs": [],
   "source": [
    "isles_pp_example_file = isles_lowres_files[0]\n",
    "isles_pp_example = np.load(isles_pp_example_file)\n",
    "\n",
    "print(isles_pp_example.shape)\n",
    "print('Labels: ', np.unique(isles_pp_example[2]))\n",
    "\n",
    "display_normalised_cross_section(isles_pp_example[0] / isles_pp_example[0].max())\n",
    "display_normalised_cross_section(isles_pp_example[1] / isles_pp_example[1].max())\n",
    "display_cross_section(isles_pp_example[2] / isles_pp_example[2].max())"
   ]
  },
  {
   "cell_type": "markdown",
   "id": "ae4be7e8-7041-4517-93e8-c27c65518a06",
   "metadata": {
    "jp-MarkdownHeadingCollapsed": true,
    "tags": [],
    "pycharm": {
     "name": "#%% md\n"
    }
   },
   "source": [
    "# VinDr-CXR"
   ]
  },
  {
   "cell_type": "markdown",
   "id": "fa31950e-bc80-49e8-aa9d-a95bc71fe3a0",
   "metadata": {
    "jp-MarkdownHeadingCollapsed": true,
    "tags": [],
    "pycharm": {
     "name": "#%% md\n"
    }
   },
   "source": [
    "## Raw"
   ]
  },
  {
   "cell_type": "code",
   "execution_count": null,
   "id": "b7a672ae-87d4-4c01-ace9-c9d201aac44c",
   "metadata": {
    "pycharm": {
     "name": "#%%\n"
    }
   },
   "outputs": [],
   "source": [
    "from multitask_method.preprocessing.vindr_cxr_preproc import raw_root, gen_vindr_structure, TRAIN, TEST\n",
    "\n",
    "raw_annotations_dict, raw_image_labels, raw_test_dir, raw_train_dir =  gen_vindr_structure(raw_root)"
   ]
  },
  {
   "cell_type": "code",
   "execution_count": null,
   "id": "c73d3022-67a3-42a2-8c50-8d451f1c6501",
   "metadata": {
    "pycharm": {
     "name": "#%%\n"
    }
   },
   "outputs": [],
   "source": [
    "import pandas as pd\n",
    "import pydicom\n",
    "\n",
    "from multitask_method.preprocessing.vindr_cxr_preproc import vindr_preproc_func, generate_vindr_mask\n",
    "\n",
    "test_anno_df = pd.read_csv(raw_annotations_dict[TEST])\n",
    "test_label_df = pd.read_csv(raw_image_labels[1], index_col='image_id')\n",
    "\n",
    "raw_test_samples = sorted(list(raw_test_dir.iterdir()))\n",
    "\n",
    "def plot_raw_cxr(curr_img, curr_ax):\n",
    "    curr_ax_im = curr_ax.imshow(curr_img, vmin=curr_img.min(), vmax=curr_img.max(), cmap='gray')\n",
    "    plt.colorbar(curr_ax_im)\n",
    "\n",
    "for i, dicom_path in enumerate(raw_test_samples):\n",
    "    \n",
    "    sample_id = dicom_path.stem\n",
    "    raw_dicom = pydicom.dcmread(dicom_path)\n",
    "    \n",
    "    raw_arr = raw_dicom.pixel_array.astype(float)\n",
    "    preproc_arr = vindr_preproc_func(raw_arr, raw_dicom)\n",
    "    \n",
    "    raw_annotation = generate_vindr_mask(test_anno_df[test_anno_df['image_id'] == sample_id], raw_arr)\n",
    "    sample_class_row = test_label_df.loc[sample_id]\n",
    "    sample_class = ', '.join(sample_class_row[sample_class_row == 1].index.tolist())\n",
    "    \n",
    "    fig, ax = plt.subplots(ncols=3, figsize=(20, 6))\n",
    "    plot_raw_cxr(raw_arr, ax[0])\n",
    "    plot_raw_cxr(preproc_arr, ax[1])\n",
    "    ax[2].imshow(raw_annotation)\n",
    "    fig.suptitle(sample_class)\n",
    "        \n",
    "    if i == 5:\n",
    "        break"
   ]
  },
  {
   "cell_type": "code",
   "execution_count": null,
   "id": "323342c8-790a-4e14-bd45-4b8a73df7f9c",
   "metadata": {
    "pycharm": {
     "name": "#%%\n"
    }
   },
   "outputs": [],
   "source": [
    "import pandas as pd\n",
    "import pydicom\n",
    "\n",
    "from multitask_method.preprocessing.vindr_cxr_preproc import vindr_preproc_func, generate_vindr_mask\n",
    "\n",
    "train_anno_df = pd.read_csv(raw_annotations_dict[TRAIN])\n",
    "train_label_df = pd.read_csv(raw_image_labels[0])\n",
    "\n",
    "train_labels_sum = train_label_df.groupby('image_id')['No finding'].sum()\n",
    "train_sample_ids = sorted(train_labels_sum[train_labels_sum == 3].index.tolist())\n",
    "raw_train_samples = [raw_train_dir / f'{f}.dicom' for f in train_sample_ids]\n",
    "\n",
    "def plot_raw_cxr(curr_img, curr_ax):\n",
    "    curr_ax_im = curr_ax.imshow(curr_img, vmin=curr_img.min(), vmax=curr_img.max(), cmap='gray')\n",
    "    plt.colorbar(curr_ax_im)\n",
    "\n",
    "for i, dicom_path in enumerate(raw_train_samples):\n",
    "    \n",
    "    sample_id = dicom_path.stem\n",
    "    raw_dicom = pydicom.dcmread(dicom_path)\n",
    "    \n",
    "    raw_arr = raw_dicom.pixel_array.astype(float)\n",
    "    preproc_arr = vindr_preproc_func(raw_arr, raw_dicom)\n",
    "    \n",
    "    raw_annotation = generate_vindr_mask(train_anno_df[train_anno_df['image_id'] == sample_id], raw_arr)\n",
    "    \n",
    "    fig, ax = plt.subplots(ncols=3, figsize=(20, 6))\n",
    "    plot_raw_cxr(raw_arr, ax[0])\n",
    "    plot_raw_cxr(preproc_arr, ax[1])\n",
    "    ax[2].imshow(raw_annotation)\n",
    "    fig.suptitle(sample_id)\n",
    "        \n",
    "    if i == 5:\n",
    "        break"
   ]
  },
  {
   "cell_type": "markdown",
   "id": "1b3a6a9a-c670-43d4-a31c-768a898c099a",
   "metadata": {
    "jp-MarkdownHeadingCollapsed": true,
    "tags": [],
    "pycharm": {
     "name": "#%% md\n"
    }
   },
   "source": [
    "## Preprocessed"
   ]
  },
  {
   "cell_type": "code",
   "execution_count": null,
   "id": "20b338b7-6eb0-440b-96cd-adf9dd5ca9e0",
   "metadata": {
    "pycharm": {
     "name": "#%%\n"
    }
   },
   "outputs": [],
   "source": [
    "from multitask_method.data.vindr_cxr import VinDrCXRDatasetCoordinator\n",
    "from multitask_method.preprocessing.vindr_cxr_preproc import base_output_dir\n",
    "\n",
    "test_samples = [5]\n",
    "\n",
    "full_res_test_container = VinDrCXRDatasetCoordinator(base_output_dir, True, False).make_container([5])\n",
    "low_res_test_container = VinDrCXRDatasetCoordinator(base_output_dir, False, False).make_container([5])\n",
    "\n",
    "\n",
    "full_res_train_container = VinDrCXRDatasetCoordinator(base_output_dir, True, True).make_container([5])\n",
    "low_res_train_container = VinDrCXRDatasetCoordinator(base_output_dir, False, True).make_container([5])"
   ]
  },
  {
   "cell_type": "code",
   "execution_count": null,
   "id": "95ea2f9c-d705-4714-b976-747f3d54db4d",
   "metadata": {
    "pycharm": {
     "name": "#%%\n"
    }
   },
   "outputs": [],
   "source": [
    "for i in range(len(full_res_test_container)):\n",
    "    full_res_test_pp_img, full_res_test_pp_m, sample_id = full_res_test_container[i]\n",
    "    \n",
    "    fig, ax = plt.subplots(ncols=2, figsize=(12, 6))\n",
    "    ax_im = ax[0].imshow(full_res_test_pp_img[0], vmin=full_res_test_pp_img.min(), vmax=full_res_test_pp_img.max(), cmap='gray')\n",
    "    plt.colorbar(ax_im)\n",
    "    ax[1].imshow(full_res_test_pp_m)\n",
    "    fig.suptitle(sample_id)"
   ]
  },
  {
   "cell_type": "code",
   "execution_count": null,
   "id": "ff1f915a-c144-484a-a2de-82b328a96ba7",
   "metadata": {
    "pycharm": {
     "name": "#%%\n"
    }
   },
   "outputs": [],
   "source": [
    "for i in range(len(low_res_test_container)):\n",
    "    low_res_test_pp_img, low_res_test_pp_m, sample_id = low_res_test_container[i]\n",
    "    \n",
    "    fig, ax = plt.subplots(ncols=2, figsize=(12, 6))\n",
    "    ax_im = ax[0].imshow(low_res_test_pp_img[0], vmin=low_res_test_pp_img.min(), vmax=low_res_test_pp_img.max(), cmap='gray')\n",
    "    plt.colorbar(ax_im)\n",
    "    ax[1].imshow(low_res_test_pp_m)\n",
    "    fig.suptitle(sample_id)"
   ]
  },
  {
   "cell_type": "code",
   "execution_count": null,
   "id": "dc5a4e86-3e9c-4ec8-a138-fb06d4684c47",
   "metadata": {
    "pycharm": {
     "name": "#%%\n"
    }
   },
   "outputs": [],
   "source": [
    "for i in range(len(low_res_train_container)):\n",
    "    low_res_train_pp_img, _, sample_id = low_res_train_container[i]\n",
    "    \n",
    "    ax_im = plt.imshow(low_res_train_pp_img[0], vmin=low_res_train_pp_img.min(), vmax=low_res_train_pp_img.max(), cmap='gray')\n",
    "    plt.colorbar(ax_im)\n",
    "    plt.title(sample_id)\n",
    "    plt.show()"
   ]
  },
  {
   "cell_type": "code",
   "execution_count": null,
   "id": "1c79520f-1f6c-4ec7-a41a-01dcd81e7357",
   "metadata": {
    "pycharm": {
     "name": "#%%\n"
    }
   },
   "outputs": [],
   "source": [
    "for i in range(len(full_res_train_container)):\n",
    "    full_res_train_pp_img, _, sample_id = full_res_train_container[i]\n",
    "    \n",
    "    ax_im = plt.imshow(full_res_train_pp_img[0], vmin=full_res_train_pp_img.min(), vmax=full_res_train_pp_img.max(), cmap='gray')\n",
    "    plt.colorbar(ax_im)\n",
    "    plt.title(sample_id)\n",
    "    plt.show()"
   ]
  },
  {
   "cell_type": "code",
   "execution_count": null,
   "id": "e2888b63-cf8c-440f-ac38-f9c8b95caa23",
   "metadata": {
    "pycharm": {
     "name": "#%%\n"
    }
   },
   "outputs": [],
   "source": []
  }
 ],
 "metadata": {
  "kernelspec": {
   "display_name": "Python 3 (ipykernel)",
   "language": "python",
   "name": "python3"
  },
  "language_info": {
   "codemirror_mode": {
    "name": "ipython",
    "version": 3
   },
   "file_extension": ".py",
   "mimetype": "text/x-python",
   "name": "python",
   "nbconvert_exporter": "python",
   "pygments_lexer": "ipython3",
   "version": "3.8.10"
  }
 },
 "nbformat": 4,
 "nbformat_minor": 5
}