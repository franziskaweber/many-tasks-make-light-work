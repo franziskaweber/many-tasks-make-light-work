{
 "cells": [
  {
   "attachments": {},
   "cell_type": "markdown",
   "metadata": {
    "pycharm": {
     "name": "#%% md\n"
    },
    "tags": []
   },
   "source": [
    "# Helpers"
   ]
  },
  {
   "cell_type": "code",
   "execution_count": null,
   "metadata": {
    "pycharm": {
     "name": "#%%\n"
    }
   },
   "outputs": [],
   "source": [
    "import os\n",
    "import sys\n",
    "\n",
    "import numpy as np\n",
    "import matplotlib.pyplot as plt\n",
    "import scipy\n",
    "import SimpleITK as sitk\n",
    "from tqdm import tqdm\n",
    "\n",
    "module_path = os.path.abspath(os.path.join('../..'))\n",
    "\n",
    "if module_path not in sys.path:\n",
    "    sys.path.append(module_path)\n",
    "\n",
    "\n",
    "from multitask_method.plotting_utils import display_cross_section, display_normalised_cross_section"
   ]
  },
  {
   "attachments": {},
   "cell_type": "markdown",
   "metadata": {
    "jp-MarkdownHeadingCollapsed": true,
    "pycharm": {
     "name": "#%% md\n"
    },
    "tags": []
   },
   "source": [
    "# Anomaly shape"
   ]
  },
  {
   "cell_type": "code",
   "execution_count": null,
   "metadata": {
    "pycharm": {
     "name": "#%%\n"
    }
   },
   "outputs": [],
   "source": [
    "from multitask_method.tasks.utils import nsa_sample_dimension\n",
    "from multitask_method.tasks.task_shape import CombinedDeformedHypershapePatchMaker, EitherDeformedHypershapePatchMaker\n",
    "\n",
    "\n",
    "shape_maker = EitherDeformedHypershapePatchMaker(nsa_sample_dimension)\n",
    "\n",
    "target_shape = np.array([128, 128, 128])\n",
    "lb = (0.06 * target_shape).round().astype(int)\n",
    "ub = (0.80 * target_shape).round().astype(int)\n",
    "\n",
    "mask = shape_maker(list(zip(lb, ub)), target_shape)\n",
    "\n",
    "print(mask.shape)\n",
    "display_cross_section(mask)"
   ]
  },
  {
   "attachments": {},
   "cell_type": "markdown",
   "metadata": {
    "pycharm": {
     "name": "#%% md\n"
    },
    "tags": []
   },
   "source": [
    "# Example Images"
   ]
  },
  {
   "cell_type": "code",
   "execution_count": null,
   "metadata": {
    "pycharm": {
     "name": "#%%\n"
    },
    "scrolled": true
   },
   "outputs": [],
   "source": [
    "from multitask_method.utils import make_exp_config\n",
    "from multitask_method.data.mood import MOODDatasetCoordinator\n",
    "\n",
    "exp_config = make_exp_config('experiments/exp_HCP_low_res_1_train.py')\n",
    "\n",
    "brain_coordinator = exp_config.curr_dset_coord\n",
    "# brain_coordinator = MOODDatasetCoordinator(exp_config.mood_root, 'Abdomen', False, True)\n",
    "brain_dset_container = brain_coordinator.make_container([0, 1])\n",
    "\n",
    "img1, img1_mask, img1_id = brain_dset_container[0]\n",
    "img2, img2_mask, _ = brain_dset_container[1]\n",
    "\n",
    "display_normalised_cross_section(img1[0])\n",
    "display_cross_section(img1_mask)\n",
    "display_normalised_cross_section(img2[0])\n",
    "display_cross_section(img2_mask)"
   ]
  },
  {
   "cell_type": "code",
   "execution_count": null,
   "metadata": {
    "pycharm": {
     "name": "#%%\n"
    }
   },
   "outputs": [],
   "source": [
    "print(np.unique(img1_mask))\n",
    "_ = plt.hist(img1[0].flatten()[img1[0].flatten() != 0], bins=100)"
   ]
  },
  {
   "cell_type": "code",
   "execution_count": null,
   "metadata": {
    "pycharm": {
     "name": "#%%\n"
    }
   },
   "outputs": [],
   "source": [
    "from multitask_method.paths import base_data_input_dir\n",
    "img1_new_all = np.load(base_data_input_dir / 'hcp' / 'lowres' / img1_id)[1]\n",
    "\n",
    "_ = plt.hist(img1_new_all.flatten()[img1_new_all.flatten() != 0], bins=100)"
   ]
  },
  {
   "cell_type": "code",
   "execution_count": null,
   "metadata": {
    "pycharm": {
     "name": "#%%\n"
    }
   },
   "outputs": [],
   "source": [
    "display_cross_section(np.interp(img1[0], [img1[0].min(), img1[0].max()], [0, 1]))\n",
    "display_cross_section(np.interp(img1_new_all, [img1_new_all.min(), img1_new_all.max()], [0, 1]))"
   ]
  },
  {
   "attachments": {},
   "cell_type": "markdown",
   "metadata": {
    "jp-MarkdownHeadingCollapsed": true,
    "pycharm": {
     "name": "#%% md\n"
    },
    "tags": []
   },
   "source": [
    "# Tasks"
   ]
  },
  {
   "attachments": {},
   "cell_type": "markdown",
   "metadata": {
    "jp-MarkdownHeadingCollapsed": true,
    "pycharm": {
     "name": "#%% md\n"
    },
    "tags": []
   },
   "source": [
    "## Patch blending tasks"
   ]
  },
  {
   "cell_type": "code",
   "execution_count": null,
   "metadata": {
    "pycharm": {
     "name": "#%%\n"
    }
   },
   "outputs": [],
   "source": [
    "from multitask_method.tasks.cutout_task import Cutout\n",
    "from multitask_method.tasks.patch_blending_task import TestCutPastePatchBlender, TestPatchInterpolationBlender, \\\n",
    "    TestPoissonImageEditingMixedGradBlender, TestPoissonImageEditingSourceGradBlender\n",
    "\n",
    "from multitask_method.tasks.labelling import FlippedGaussianLabeller\n",
    "\n",
    "labeller = FlippedGaussianLabeller(0.2)\n",
    "\n",
    "\n",
    "cutout_task = Cutout(labeller)\n",
    "cutpaste_task = TestCutPastePatchBlender(labeller, img2, img2_mask)\n",
    "patch_interp_task = TestPatchInterpolationBlender(labeller, img2, img2_mask)\n",
    "poisson_image_editing_mixed_task = TestPoissonImageEditingMixedGradBlender(labeller, img2, img2_mask)\n",
    "poisson_image_editing_source_task = TestPoissonImageEditingSourceGradBlender(labeller, img2, img2_mask)\n",
    "\n",
    "all_test_tasks = [cutout_task, cutpaste_task, patch_interp_task, poisson_image_editing_source_task, poisson_image_editing_mixed_task]"
   ]
  },
  {
   "cell_type": "code",
   "execution_count": null,
   "metadata": {
    "pycharm": {
     "name": "#%%\n"
    }
   },
   "outputs": [],
   "source": [
    "\n",
    "fig, axes = plt.subplots(2 * len(all_test_tasks), 3, figsize=(18, 12 * len(all_test_tasks)))\n",
    "ax_row_params = {'fontsize': 30, 'labelpad': 15}\n",
    "\n",
    "for i, t in tqdm(enumerate(all_test_tasks)):\n",
    "    aug_image, aug_image_label = t(img1, img1_mask)\n",
    "    display_normalised_cross_section(aug_image[0], existing_fig_ax=(fig, axes[2 * i]))\n",
    "    display_cross_section(aug_image_label, existing_fig_ax=(fig, axes[2 * i + 1]))\n",
    "    axes[2 * i][0].set_ylabel(t.__class__.__name__, **ax_row_params)"
   ]
  },
  {
   "attachments": {},
   "cell_type": "markdown",
   "metadata": {
    "jp-MarkdownHeadingCollapsed": true,
    "pycharm": {
     "name": "#%% md\n"
    },
    "tags": []
   },
   "source": [
    "## Deformation tasks"
   ]
  },
  {
   "cell_type": "code",
   "execution_count": null,
   "metadata": {
    "pycharm": {
     "name": "#%%\n"
    }
   },
   "outputs": [],
   "source": [
    "from multitask_method.tasks.deformation_task import SourceDeformationTask, SinkDeformationTask, FPISinkDeformationTask, IdentityDeformationTask\n",
    "\n",
    "deformation_tasks = [SourceDeformationTask(None, None), SinkDeformationTask(None, None)]#, FPISinkDeformationTask(None, None)]\n",
    "\n",
    "fig, axes = plt.subplots(2 * len(deformation_tasks), 3, figsize=(18, 12 * len(deformation_tasks)))\n",
    "\n",
    "for i, t in tqdm(enumerate(deformation_tasks)):\n",
    "    aug_image, aug_image_label = t(img1, img1_mask)\n",
    "    display_normalised_cross_section(aug_image[0], existing_fig_ax=(fig, axes[2 * i]))\n",
    "    display_cross_section(aug_image_label[0], existing_fig_ax=(fig, axes[2 * i + 1]))\n",
    "    axes[2 * i][0].set_ylabel(t.__class__.__name__, **ax_row_params)"
   ]
  },
  {
   "cell_type": "code",
   "execution_count": null,
   "metadata": {
    "pycharm": {
     "name": "#%%\n"
    }
   },
   "outputs": [],
   "source": [
    "from scipy.ndimage import label\n",
    "\n",
    "chess_grid = label(np.kron(np.tile(np.array([[0, 1], [1, 0]]), (5, 5)), np.ones((10, 10))))[0]\n",
    "\n",
    "ax_title_params = {'fontsize': 30, 'pad': 15}\n",
    "\n",
    "fig, axes = plt.subplots(2, len(deformation_tasks), figsize=(6 * len(deformation_tasks), 12))\n",
    "for i, t in tqdm(enumerate(deformation_tasks)):\n",
    "    aug_image, aug_image_label = t(chess_grid[None], np.ones_like(chess_grid))\n",
    "    axes[0, i].imshow(aug_image[0])\n",
    "    axes[1, i].imshow(aug_image_label[0])\n",
    "    axes[0, i].set_title(t.__class__.__name__, **ax_title_params)"
   ]
  },
  {
   "cell_type": "code",
   "execution_count": null,
   "metadata": {
    "pycharm": {
     "name": "#%%\n"
    }
   },
   "outputs": [],
   "source": [
    "from scipy.ndimage import label\n",
    "\n",
    "chess_grid = label(np.kron(np.tile(np.array([[0, 1], [1, 0]]), (5, 5)), np.ones((100, 100))))[0]\n",
    "\n",
    "ax_title_params = {'fontsize': 30, 'pad': 15}\n",
    "\n",
    "fig, axes = plt.subplots(2, len(deformation_tasks), figsize=(6 * len(deformation_tasks), 12))\n",
    "for i, t in tqdm(enumerate(deformation_tasks)):\n",
    "    aug_image, aug_image_label = t(chess_grid[None], np.ones_like(chess_grid))\n",
    "    axes[0, i].imshow(aug_image[0])\n",
    "    axes[1, i].imshow(aug_image_label[0])\n",
    "    axes[0, i].set_title(t.__class__.__name__, **ax_title_params)"
   ]
  },
  {
   "attachments": {},
   "cell_type": "markdown",
   "metadata": {
    "jp-MarkdownHeadingCollapsed": true,
    "pycharm": {
     "name": "#%% md\n"
    },
    "tags": []
   },
   "source": [
    "## Intensity tasks"
   ]
  },
  {
   "cell_type": "code",
   "execution_count": null,
   "metadata": {
    "pycharm": {
     "name": "#%%\n"
    }
   },
   "outputs": [],
   "source": [
    "from scipy.ndimage import distance_transform_edt\n",
    "\n",
    "from multitask_method.tasks.task_shape import EitherDeformedHypershapePatchMaker\n",
    "\n",
    "shape_maker = EitherDeformedHypershapePatchMaker()\n",
    "\n",
    "mask = shape_maker.get_patch_mask([(20, 200), (20, 200)], np.array([256, 256]))\n",
    "dist = distance_transform_edt(mask)\n",
    "\n",
    "fig, ax = plt.subplots(ncols=2, figsize=(12, 6))\n",
    "\n",
    "ax[0].imshow(mask)\n",
    "ax[1].imshow(dist)\n",
    "plt.show()"
   ]
  },
  {
   "cell_type": "code",
   "execution_count": null,
   "metadata": {
    "pycharm": {
     "name": "#%%\n"
    }
   },
   "outputs": [],
   "source": [
    "\n",
    "max_distances = []\n",
    "mean_distances = []\n",
    "\n",
    "for _ in tqdm(range(100)):\n",
    "    d = distance_transform_edt(shape_maker.get_patch_mask([(15, 205), (15, 205), (15, 205)], np.array([256, 256, 256])))\n",
    "    max_distances.append(np.max(d))\n",
    "    mean_distances.append(np.mean(d[d > 0]))\n",
    "\n",
    "plt.hist(max_distances, bins=50)\n",
    "plt.show()\n",
    "plt.hist(mean_distances, bins=50)\n",
    "plt.show()"
   ]
  },
  {
   "cell_type": "code",
   "execution_count": null,
   "metadata": {
    "pycharm": {
     "name": "#%%\n"
    }
   },
   "outputs": [],
   "source": [
    "img_shape = np.array([256, 256])\n",
    "mask = shape_maker.get_patch_mask([(20, 200), (20, 200)], img_shape)\n",
    "\n",
    "dist = distance_transform_edt(mask)\n",
    "min_shape_dim = np.min(img_shape)\n",
    "\n",
    "smooth_dist = np.minimum(min_shape_dim * (0.02 + np.random.gamma(3, 0.01)), np.max(dist))\n",
    "smooth_dist_map = dist / smooth_dist\n",
    "smooth_dist_map[smooth_dist_map > 1] = 1\n",
    "\n",
    "print('Smooth distance: ', smooth_dist)\n",
    "print('Saturated area: ', np.sum(smooth_dist_map == 1) / np.sum(smooth_dist_map > 0))\n",
    "\n",
    "fig, ax = plt.subplots(ncols=3, figsize=(18, 6))\n",
    "\n",
    "ax[0].imshow(mask)\n",
    "ax[1].imshow(dist)\n",
    "ax[2].imshow(smooth_dist_map)\n",
    "plt.show()"
   ]
  },
  {
   "cell_type": "code",
   "execution_count": null,
   "metadata": {
    "pycharm": {
     "name": "#%%\n"
    }
   },
   "outputs": [],
   "source": [
    "from multitask_method.tasks.intensity_tasks import SmoothIntensityChangeTask\n",
    "\n",
    "intensity_task = SmoothIntensityChangeTask(None, 0.2)\n",
    "\n",
    "intensity_aug_image, intensity_aug_image_label = intensity_task(img1, img1_mask)\n",
    "\n",
    "diff = np.abs(intensity_aug_image - img1)\n",
    "print(np.max(diff))\n",
    "\n",
    "display_normalised_cross_section(img1[0])\n",
    "display_normalised_cross_section(intensity_aug_image[0])\n",
    "display_cross_section(intensity_aug_image_label[0])\n",
    "display_cross_section(diff[0]) "
   ]
  },
  {
   "attachments": {},
   "cell_type": "markdown",
   "metadata": {
    "jp-MarkdownHeadingCollapsed": true,
    "pycharm": {
     "name": "#%% md\n"
    },
    "tags": []
   },
   "source": [
    "# Positional Encoding"
   ]
  },
  {
   "cell_type": "code",
   "execution_count": null,
   "metadata": {
    "pycharm": {
     "name": "#%%\n"
    }
   },
   "outputs": [],
   "source": [
    "from multitask_method.pos_encoding import PosEnc, ConvCoordEnc, GaussianRFFEnc\n",
    "\n",
    "cc_enc = ConvCoordEnc(3)\n",
    "fourier_enc = GaussianRFFEnc(3, 32, 12) \n",
    "\n",
    "\n",
    "def display_pos_enc_example(p_e: PosEnc):\n",
    "    p_e_example = p_e((128, 128, 128))\n",
    "\n",
    "    # scale to 0-1 so is visible\n",
    "\n",
    "    p_e_min = p_e_example.min()\n",
    "    p_e_max = p_e_example.max()\n",
    "    print(p_e.__class__.__name__, f'range [{p_e_min}, {p_e_max}]')\n",
    "    \n",
    "    p_e_example = (p_e_example - p_e_min) / (p_e_max - p_e_min)\n",
    "    \n",
    "    for i, d in enumerate(p_e_example):\n",
    "        if i >= 10:\n",
    "            break\n",
    "        display_cross_section(d)\n"
   ]
  },
  {
   "cell_type": "code",
   "execution_count": null,
   "metadata": {
    "pycharm": {
     "name": "#%%\n"
    }
   },
   "outputs": [],
   "source": [
    "display_pos_enc_example(cc_enc)"
   ]
  },
  {
   "cell_type": "code",
   "execution_count": null,
   "metadata": {
    "pycharm": {
     "name": "#%%\n"
    }
   },
   "outputs": [],
   "source": [
    "display_pos_enc_example(fourier_enc)"
   ]
  },
  {
   "attachments": {},
   "cell_type": "markdown",
   "metadata": {
    "jp-MarkdownHeadingCollapsed": true,
    "pycharm": {
     "name": "#%% md\n"
    },
    "tags": []
   },
   "source": [
    "# Labelling"
   ]
  },
  {
   "attachments": {},
   "cell_type": "markdown",
   "metadata": {
    "jp-MarkdownHeadingCollapsed": true,
    "pycharm": {
     "name": "#%% md\n"
    },
    "tags": []
   },
   "source": [
    "## Smoothness investigation"
   ]
  },
  {
   "cell_type": "code",
   "execution_count": null,
   "metadata": {
    "pycharm": {
     "name": "#%%\n"
    }
   },
   "outputs": [],
   "source": [
    "from multitask_method.tasks.patch_blending_task import TestPoissonImageEditingMixedGradBlender\n",
    "from multitask_method.tasks.deformation_task import BendSourceDeformationTask\n",
    "from multitask_method.tasks.labelling import FlippedGaussianLabeller\n",
    "\n",
    "#main_task = TestPoissonImageEditingMixedGradBlender(None, img2, img2_mask)\n",
    "main_task = BendSourceDeformationTask(None, min_push_dist=0, max_push_dist=5)\n",
    "curr_labeller = FlippedGaussianLabeller(0.2)"
   ]
  },
  {
   "cell_type": "code",
   "execution_count": null,
   "metadata": {
    "pycharm": {
     "name": "#%%\n"
    }
   },
   "outputs": [],
   "source": [
    "from scipy import ndimage\n",
    "from skimage.morphology import reconstruction\n",
    "aug_image, aug_image_binary_label = main_task(img1, img1_mask)\n",
    "direct_label = curr_labeller.label_fn(np.mean(aug_image_binary_label * np.abs(aug_image - img1), axis=0))\n",
    "\n",
    "neighbour_footprint = ndimage.generate_binary_structure(3, 1)\n",
    "\n",
    "extended_neighbour_footprint = ndimage.iterate_structure(neighbour_footprint, 2)\n",
    "\n",
    "recon_seed_img = np.copy(direct_label)\n",
    "recon_seed_img[3 * (slice(1, -1),)] = direct_label.max()\n",
    "\n",
    "base_images = [\n",
    "    ('Image', aug_image[0]),\n",
    "    ('Binary label', aug_image_binary_label[0]),\n",
    "    ('Direct label', direct_label),\n",
    "    ('Direct Morph recon', reconstruction(recon_seed_img, direct_label, method='erosion', footprint=neighbour_footprint)),\n",
    "    ('Closed Morph recon', reconstruction(recon_seed_img, ndimage.grey_closing(direct_label, footprint=neighbour_footprint), method='erosion', footprint=neighbour_footprint))\n",
    "]\n",
    "\n",
    "def make_sphere_mask(r):\n",
    "    n_dims = 3\n",
    "    diam_range = np.arange(-r, r+1)\n",
    "    mg = np.meshgrid(*([diam_range] * n_dims))\n",
    "    return np.sum([D ** 2 for D in mg], axis=0) <= r ** 2\n",
    "\n",
    "closing_shapes = [\n",
    "    ('Direct neigbours', neighbour_footprint),\n",
    "    ('1.5 radius', ndimage.generate_binary_structure(3, 2)),\n",
    "    ('3 kernel', np.ones((3, 3, 3), dtype=bool)),\n",
    "    ('2 manhattan', extended_neighbour_footprint),\n",
    "    ('3 manhattan', ndimage.binary_dilation(extended_neighbour_footprint)),\n",
    "    ('2 radius', make_sphere_mask(2)),\n",
    "    ('5 Kernel', np.ones((5, 5, 5), dtype=bool))\n",
    "]\n",
    "\n",
    "num_base_rows = len(base_images)\n",
    "num_rows = num_base_rows + len(closing_shapes)\n",
    "\n",
    "fig, axes = plt.subplots(num_rows, 3, figsize=(18, 6 * num_rows))\n",
    "ax_row_params = {'fontsize': 30, 'labelpad': 15}\n",
    "\n",
    "\n",
    "for a, (img_name, img_to_show) in zip(axes[:num_base_rows], base_images):\n",
    "    \n",
    "    if img_to_show.dtype == float:\n",
    "        display_normalised_cross_section(img_to_show, existing_fig_ax=(fig, a))\n",
    "    else:\n",
    "        display_cross_section(img_to_show, existing_fig_ax=(fig, a))\n",
    "        \n",
    "    a[0].set_ylabel(img_name, **ax_row_params)\n",
    "\n",
    "for a, (c_name, c) in zip(axes[num_base_rows:], closing_shapes):\n",
    "    \n",
    "    display_cross_section(ndimage.grey_closing(direct_label, footprint=c), existing_fig_ax=(fig, a))\n",
    "    a[0].set_ylabel(c_name, **ax_row_params)"
   ]
  },
  {
   "cell_type": "code",
   "execution_count": null,
   "metadata": {
    "pycharm": {
     "name": "#%%\n"
    }
   },
   "outputs": [],
   "source": [
    "np.array_equal(base_images[2][1], base_images[3][1])"
   ]
  },
  {
   "attachments": {},
   "cell_type": "markdown",
   "metadata": {
    "jp-MarkdownHeadingCollapsed": true,
    "pycharm": {
     "name": "#%% md\n"
    },
    "tags": []
   },
   "source": [
    "## Function investigation"
   ]
  },
  {
   "cell_type": "code",
   "execution_count": null,
   "metadata": {
    "pycharm": {
     "name": "#%%\n"
    }
   },
   "outputs": [],
   "source": [
    "from multitask_method.tasks.deformation_task import SourceDeformationTask, SinkDeformationTask\n",
    "from multitask_method.tasks.labelling import SaturatingLabeller, FlippedGaussianLabeller\n",
    "\n",
    "from multitask_method.tasks.patch_blending_task import TestPoissonImageEditingMixedGradBlender\n",
    "from multitask_method.tasks.intensity_tasks import SmoothIntensityChangeTask\n",
    "\n",
    "\n",
    "all_tasks = [TestPoissonImageEditingMixedGradBlender(None, img2, img2_mask),\n",
    "             SmoothIntensityChangeTask(None, 0.2),\n",
    "             SourceDeformationTask(None),\n",
    "             SinkDeformationTask(None)]\n",
    "\n",
    "# OLD, never calculated for VinDr\n",
    "LABEL_CONFIGS = {\n",
    "    'brain': 133.75381550463723,\n",
    "}\n",
    "\n",
    "curr_labeller = SaturatingLabeller(LABEL_CONFIGS['brain'], 0.1)\n",
    "new_labeller = FlippedGaussianLabeller(0.037)"
   ]
  },
  {
   "cell_type": "code",
   "execution_count": null,
   "metadata": {
    "pycharm": {
     "name": "#%%\n"
    }
   },
   "outputs": [],
   "source": [
    "from scipy.ndimage import center_of_mass\n",
    "\n",
    "TASK_INDEX = 3\n",
    "\n",
    "aug_img, aug_img_mask  = all_tasks[TASK_INDEX](img1, img1_mask)\n",
    "\n",
    "aug_img_mask = aug_img_mask[0]\n",
    "\n",
    "curr_label = curr_labeller(aug_img, img1, aug_img_mask)\n",
    "new_label = new_labeller(aug_img, img1, aug_img_mask)\n",
    "\n",
    "z, y, x = np.array(center_of_mass(aug_img_mask)).astype(int)"
   ]
  },
  {
   "cell_type": "code",
   "execution_count": null,
   "metadata": {
    "pycharm": {
     "name": "#%%\n"
    }
   },
   "outputs": [],
   "source": [
    "from matplotlib.animation import FuncAnimation\n",
    "from IPython import display\n",
    "\n",
    "\n",
    "top_frames = [img1[0], aug_img[0], curr_label]\n",
    "bot_frames = [img1[0], aug_img[0], new_label]\n",
    "\n",
    "fig, ax = plt.subplots(nrows=2, ncols=3, figsize=(12, 9))\n",
    "\n",
    "ax_imgs = [[sub_a[0].imshow(fs[0][z,:,:], cmap='gray', vmin=fs[0].min(), vmax=fs[0].max()),\n",
    "                       sub_a[1].imshow(fs[0][:,y,:], origin='lower', cmap='gray', vmin=fs[0].min(), vmax=fs[0].max()),\n",
    "                       sub_a[2].imshow(fs[0][:,:,z], origin='lower', cmap='gray', vmin=fs[0].min(), vmax=fs[0].max())]\n",
    "                     for sub_a, fs in zip(ax, [top_frames, bot_frames])]\n",
    "\n",
    "\n",
    "fig.tight_layout()\n",
    "\n",
    "for sub_a in ax:\n",
    "    for a in sub_a:\n",
    "        a.set_xticks([])\n",
    "        a.set_yticks([])\n",
    "\n",
    "def animate(frame_num):\n",
    "    for sub_ax_img, fs in zip(ax_imgs, [top_frames, bot_frames]):\n",
    "        curr_frame = fs[frame_num % len(top_frames)]\n",
    "        sub_ax_img[0].set_data(curr_frame[z, :, :])\n",
    "        sub_ax_img[1].set_data(curr_frame[:, y, :])\n",
    "        sub_ax_img[2].set_data(curr_frame[:, :, x])\n",
    "    return ax_imgs\n",
    "\n",
    "anim = FuncAnimation(fig, animate, frames=50, interval=600)\n",
    "\n",
    "video = anim.to_html5_video()\n",
    "html = display.HTML(video)\n",
    "display.display(html)\n",
    "plt.close()\n",
    "\n"
   ]
  },
  {
   "attachments": {},
   "cell_type": "markdown",
   "metadata": {
    "pycharm": {
     "name": "#%% md\n"
    },
    "tags": []
   },
   "source": [
    "# Random"
   ]
  },
  {
   "cell_type": "code",
   "execution_count": null,
   "metadata": {
    "pycharm": {
     "name": "#%%\n"
    }
   },
   "outputs": [],
   "source": [
    "from multitask_method.utils import make_exp_config\n",
    "exp_config = make_exp_config('experiments/exp_HCP_debug.py')\n",
    "\n",
    "hcp_coordinator = exp_config.curr_dset_coord\n",
    "hcp_dset_container = hcp_coordinator.make_container([0, 1])"
   ]
  },
  {
   "cell_type": "code",
   "execution_count": null,
   "metadata": {
    "pycharm": {
     "name": "#%%\n"
    }
   },
   "outputs": [],
   "source": [
    "img1, img1_mask, _ = hcp_dset_container[0]\n",
    "\n",
    "img1.shape"
   ]
  },
  {
   "cell_type": "code",
   "execution_count": null,
   "metadata": {
    "pycharm": {
     "name": "#%%\n"
    }
   },
   "outputs": [],
   "source": []
  }
 ],
 "metadata": {
  "kernelspec": {
   "display_name": "Python 3 (ipykernel)",
   "language": "python",
   "name": "python3"
  },
  "language_info": {
   "codemirror_mode": {
    "name": "ipython",
    "version": 3
   },
   "file_extension": ".py",
   "mimetype": "text/x-python",
   "name": "python",
   "nbconvert_exporter": "python",
   "pygments_lexer": "ipython3",
   "version": "3.10.6"
  }
 },
 "nbformat": 4,
 "nbformat_minor": 4
}
